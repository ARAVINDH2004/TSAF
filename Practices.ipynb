{
  "nbformat": 4,
  "nbformat_minor": 0,
  "metadata": {
    "colab": {
      "provenance": [],
      "authorship_tag": "ABX9TyP19BMKidg72B1drGevr6zz",
      "include_colab_link": true
    },
    "kernelspec": {
      "name": "python3",
      "display_name": "Python 3"
    },
    "language_info": {
      "name": "python"
    }
  },
  "cells": [
    {
      "cell_type": "markdown",
      "metadata": {
        "id": "view-in-github",
        "colab_type": "text"
      },
      "source": [
        "<a href=\"https://colab.research.google.com/github/ARAVINDH2004/TSAF/blob/main/Practices.ipynb\" target=\"_parent\"><img src=\"https://colab.research.google.com/assets/colab-badge.svg\" alt=\"Open In Colab\"/></a>"
      ]
    },
    {
      "cell_type": "code",
      "execution_count": null,
      "metadata": {
        "colab": {
          "base_uri": "https://localhost:8080/"
        },
        "id": "wLXbb41ic3Q2",
        "outputId": "89ba0cc0-8427-4eab-9dd1-6bd729e23df0"
      },
      "outputs": [
        {
          "output_type": "stream",
          "name": "stdout",
          "text": [
            "<class 'pandas.core.series.Series'>\n",
            "<bound method NDFrame.head of Date\n",
            "1959-01-01    35\n",
            "1959-01-02    32\n",
            "1959-01-03    30\n",
            "1959-01-04    31\n",
            "1959-01-05    44\n",
            "              ..\n",
            "1959-12-27    37\n",
            "1959-12-28    52\n",
            "1959-12-29    48\n",
            "1959-12-30    55\n",
            "1959-12-31    50\n",
            "Name: Births, Length: 365, dtype: int64>\n"
          ]
        },
        {
          "output_type": "stream",
          "name": "stderr",
          "text": [
            "<ipython-input-7-df14e7c1c802>:3: FutureWarning: The squeeze argument has been deprecated and will be removed in a future version. Append .squeeze(\"columns\") to the call to squeeze.\n",
            "\n",
            "\n",
            "  series = rc('daily-total-female-births.csv' , header = 0 , index_col = 0 , parse_dates = True , squeeze = True)\n"
          ]
        }
      ],
      "source": [
        "# to get the top part the data file\n",
        "from pandas import read_csv as rc\n",
        "series = rc('daily-total-female-births.csv' , header = 0 , index_col = 0 , parse_dates = True , squeeze = True)\n",
        "print(type(series))\n",
        "print(series.head)"
      ]
    },
    {
      "cell_type": "code",
      "source": [],
      "metadata": {
        "id": "hm1Tg03c0a-Y"
      },
      "execution_count": null,
      "outputs": []
    },
    {
      "cell_type": "code",
      "source": [
        "# to get the part with specific number of data in the file\n",
        "from pandas import read_csv as rc\n",
        "series = rc('daily-total-female-births.csv' , header = 0 , index_col = 0 , parse_dates = True , squeeze = True)\n",
        "print(series.head(10))"
      ],
      "metadata": {
        "colab": {
          "base_uri": "https://localhost:8080/"
        },
        "id": "M-p2_tsPrH78",
        "outputId": "f1599c4a-09e7-4c74-fc16-4ec5ac6cb8e0"
      },
      "execution_count": null,
      "outputs": [
        {
          "output_type": "stream",
          "name": "stdout",
          "text": [
            "Date\n",
            "1959-01-01    35\n",
            "1959-01-02    32\n",
            "1959-01-03    30\n",
            "1959-01-04    31\n",
            "1959-01-05    44\n",
            "1959-01-06    29\n",
            "1959-01-07    45\n",
            "1959-01-08    43\n",
            "1959-01-09    38\n",
            "1959-01-10    27\n",
            "Name: Births, dtype: int64\n"
          ]
        },
        {
          "output_type": "stream",
          "name": "stderr",
          "text": [
            "<ipython-input-8-3c0fc4050233>:3: FutureWarning: The squeeze argument has been deprecated and will be removed in a future version. Append .squeeze(\"columns\") to the call to squeeze.\n",
            "\n",
            "\n",
            "  series = rc('daily-total-female-births.csv' , header = 0 , index_col = 0 , parse_dates = True , squeeze = True)\n"
          ]
        }
      ]
    },
    {
      "cell_type": "code",
      "source": [
        "# to get the bottom part of the data in the file with specific number\n",
        "from pandas import read_csv as rc\n",
        "series = rc('daily-total-female-births.csv' , header = 0 , index_col = 0 , parse_dates = True , squeeze =0)\n",
        "print(series.tail(11))"
      ],
      "metadata": {
        "colab": {
          "base_uri": "https://localhost:8080/"
        },
        "id": "scwoU45vrsrt",
        "outputId": "81bd22be-ce31-43b6-ee94-9281324910b7"
      },
      "execution_count": null,
      "outputs": [
        {
          "output_type": "stream",
          "name": "stdout",
          "text": [
            "            Births\n",
            "Date              \n",
            "1959-12-21      53\n",
            "1959-12-22      39\n",
            "1959-12-23      40\n",
            "1959-12-24      38\n",
            "1959-12-25      44\n",
            "1959-12-26      34\n",
            "1959-12-27      37\n",
            "1959-12-28      52\n",
            "1959-12-29      48\n",
            "1959-12-30      55\n",
            "1959-12-31      50\n"
          ]
        },
        {
          "output_type": "stream",
          "name": "stderr",
          "text": [
            "<ipython-input-12-10fbf4fbba26>:3: FutureWarning: The squeeze argument has been deprecated and will be removed in a future version. Append .squeeze(\"columns\") to the call to squeeze.\n",
            "\n",
            "\n",
            "  series = rc('daily-total-female-births.csv' , header = 0 , index_col = 0 , parse_dates = True , squeeze =0)\n"
          ]
        }
      ]
    },
    {
      "cell_type": "code",
      "source": [
        "# to get the demension of the particular data size\n",
        "from pandas import read_csv as rc\n",
        "series = rc('daily-total-female-births.csv' , header = 0 , index_col = 0 , parse_dates = True , squeeze = True)\n",
        "print(series.size)"
      ],
      "metadata": {
        "colab": {
          "base_uri": "https://localhost:8080/"
        },
        "id": "Us7CTuq6sUJz",
        "outputId": "4b5855ee-e4bd-4966-bb5e-960ecd8ad78b"
      },
      "execution_count": null,
      "outputs": [
        {
          "output_type": "stream",
          "name": "stdout",
          "text": [
            "365\n"
          ]
        },
        {
          "output_type": "stream",
          "name": "stderr",
          "text": [
            "<ipython-input-14-975b0690b1e0>:3: FutureWarning: The squeeze argument has been deprecated and will be removed in a future version. Append .squeeze(\"columns\") to the call to squeeze.\n",
            "\n",
            "\n",
            "  series = rc('daily-total-female-births.csv' , header = 0 , index_col = 0 , parse_dates = True , squeeze = True)\n"
          ]
        }
      ]
    },
    {
      "cell_type": "code",
      "source": [
        "# to get a set of data by giving date and time index\n",
        "# format ----> 'yyyy-mm-dd'\n",
        "from pandas import read_csv as rc\n",
        "series = rc('daily-total-female-births.csv' , header = 0 , index_col = 0 , parse_dates = True , squeeze = True)\n",
        "print(series['1959-12-30'])"
      ],
      "metadata": {
        "colab": {
          "base_uri": "https://localhost:8080/"
        },
        "id": "-B2B-G_Hs-9_",
        "outputId": "5f3d671f-b2b4-463d-e95d-e3aa629171f0"
      },
      "execution_count": null,
      "outputs": [
        {
          "output_type": "stream",
          "name": "stdout",
          "text": [
            "55\n"
          ]
        },
        {
          "output_type": "stream",
          "name": "stderr",
          "text": [
            "<ipython-input-8-ca5908d77d34>:3: FutureWarning: The squeeze argument has been deprecated and will be removed in a future version. Append .squeeze(\"columns\") to the call to squeeze.\n",
            "\n",
            "\n",
            "  series = rc('daily-total-female-births.csv' , header = 0 , index_col = 0 , parse_dates = True , squeeze = True)\n"
          ]
        }
      ]
    },
    {
      "cell_type": "code",
      "source": [
        "# describe\n",
        "# The describe() function creates\n",
        "# a 7 number summary of the loaded time series including mean, standard deviation, median,\n",
        "# minimum, and maximum of the observations.\n",
        "from pandas import read_csv as rc\n",
        "series = rc('daily-total-female-births.csv' , header = 0 , index_col = 0 , parse_dates = True , squeeze = True)\n",
        "print(series.describe())"
      ],
      "metadata": {
        "colab": {
          "base_uri": "https://localhost:8080/"
        },
        "id": "JJdOiUvzSkg6",
        "outputId": "74d6361e-d542-4a52-83d0-fbe28b99a307"
      },
      "execution_count": null,
      "outputs": [
        {
          "output_type": "stream",
          "name": "stdout",
          "text": [
            "count    365.000000\n",
            "mean      41.980822\n",
            "std        7.348257\n",
            "min       23.000000\n",
            "25%       37.000000\n",
            "50%       42.000000\n",
            "75%       46.000000\n",
            "max       73.000000\n",
            "Name: Births, dtype: float64\n"
          ]
        },
        {
          "output_type": "stream",
          "name": "stderr",
          "text": [
            "<ipython-input-10-f9b43045e0a2>:3: FutureWarning: The squeeze argument has been deprecated and will be removed in a future version. Append .squeeze(\"columns\") to the call to squeeze.\n",
            "\n",
            "\n",
            "  series = rc('daily-total-female-births.csv' , header = 0 , index_col = 0 , parse_dates = True , squeeze = True)\n"
          ]
        }
      ]
    },
    {
      "cell_type": "code",
      "source": [
        "# create date time features of data set\n",
        "from pandas import read_csv as rc\n",
        "from pandas import DataFrame as df\n",
        "series = rc('daily-min-temperatures.csv' , header = 0  , index_col = 0 , parse_dates = True , squeeze = True)\n",
        "data = df()\n",
        "data['month'] = [series.index[i].month for i in range(len(series))]\n",
        "data['day'] = [series.index[i].day for i in range(len(series))]\n",
        "data['temperature'] = [series[i] for i in range(len(series))]\n",
        "print(data.head(3))"
      ],
      "metadata": {
        "colab": {
          "base_uri": "https://localhost:8080/"
        },
        "id": "6H1lt5YbgWdu",
        "outputId": "5008b8d7-ecfb-4b63-8afa-ef29ecb1063e"
      },
      "execution_count": null,
      "outputs": [
        {
          "output_type": "stream",
          "name": "stdout",
          "text": [
            "   month  day  temperature\n",
            "0      1    1         20.7\n",
            "1      1    2         17.9\n",
            "2      1    3         18.8\n"
          ]
        },
        {
          "output_type": "stream",
          "name": "stderr",
          "text": [
            "<ipython-input-6-6bb686b0dd0f>:4: FutureWarning: The squeeze argument has been deprecated and will be removed in a future version. Append .squeeze(\"columns\") to the call to squeeze.\n",
            "\n",
            "\n",
            "  series = rc('daily-min-temperatures.csv' , header = 0  , index_col = 0 , parse_dates = True , squeeze = True)\n"
          ]
        }
      ]
    },
    {
      "cell_type": "code",
      "source": [
        "# create rolling statistics features\n",
        "from pandas import read_csv\n",
        "from pandas import DataFrame\n",
        "from pandas import concat\n",
        "series = read_csv('daily-min-temperatures.csv', header=0, index_col=0,\n",
        "parse_dates=True, squeeze=True)\n",
        "temps = DataFrame(series.values)\n",
        "width = 3\n",
        "shifted = temps.shift(width - 1)\n",
        "window = shifted.rolling(window=width)\n",
        "dataframe = concat([window.min(), window.mean(), window.max(), temps], axis=1)\n",
        "dataframe.columns = ['min', 'mean', 'max', 't+1']\n",
        "print(dataframe.head(5))"
      ],
      "metadata": {
        "id": "EcFwBY8lKDj-",
        "outputId": "435e5b52-7f96-4112-8183-bfbf1f6f22e9",
        "colab": {
          "base_uri": "https://localhost:8080/"
        }
      },
      "execution_count": 1,
      "outputs": [
        {
          "output_type": "stream",
          "name": "stdout",
          "text": [
            "    min       mean   max   t+1\n",
            "0   NaN        NaN   NaN  20.7\n",
            "1   NaN        NaN   NaN  17.9\n",
            "2   NaN        NaN   NaN  18.8\n",
            "3   NaN        NaN   NaN  14.6\n",
            "4  17.9  19.133333  20.7  15.8\n"
          ]
        },
        {
          "output_type": "stream",
          "name": "stderr",
          "text": [
            "<ipython-input-1-9e013bf97d33>:5: FutureWarning: The squeeze argument has been deprecated and will be removed in a future version. Append .squeeze(\"columns\") to the call to squeeze.\n",
            "\n",
            "\n",
            "  series = read_csv('daily-min-temperatures.csv', header=0, index_col=0,\n"
          ]
        }
      ]
    }
  ]
}